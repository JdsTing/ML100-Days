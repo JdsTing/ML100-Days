{
 "cells": [
  {
   "cell_type": "markdown",
   "metadata": {},
   "source": [
    "## Work\n",
    "1. 請嘗試寫一個 callback 用來記錄各類別在訓練過程中，對驗證集的 True Positive 與 True Negative"
   ]
  },
  {
   "cell_type": "code",
   "execution_count": 3,
   "metadata": {},
   "outputs": [
    {
     "name": "stderr",
     "output_type": "stream",
     "text": [
      "Using TensorFlow backend.\n"
     ]
    }
   ],
   "source": [
    "import os\n",
    "import keras\n",
    "\n",
    "# Disable GPU\n",
    "# os.environ[\"CUDA_VISIBLE_DEVICES\"] = \"\""
   ]
  },
  {
   "cell_type": "code",
   "execution_count": 4,
   "metadata": {},
   "outputs": [],
   "source": [
    "train, test = keras.datasets.cifar10.load_data()"
   ]
  },
  {
   "cell_type": "code",
   "execution_count": 5,
   "metadata": {},
   "outputs": [],
   "source": [
    "## 資料前處理\n",
    "def preproc_x(x, flatten=True):\n",
    "    x = x / 255.\n",
    "    if flatten:\n",
    "        x = x.reshape((len(x), -1))\n",
    "    return x\n",
    "\n",
    "def preproc_y(y, num_classes=10):\n",
    "    if y.shape[-1] == 1:\n",
    "        y = keras.utils.to_categorical(y, num_classes)\n",
    "    return y    "
   ]
  },
  {
   "cell_type": "code",
   "execution_count": 6,
   "metadata": {},
   "outputs": [],
   "source": [
    "x_train, y_train = train\n",
    "x_test, y_test = test\n",
    "\n",
    "# Preproc the inputs\n",
    "x_train = preproc_x(x_train)\n",
    "x_test = preproc_x(x_test)\n",
    "\n",
    "# Preprc the outputs\n",
    "y_train = preproc_y(y_train)\n",
    "y_test = preproc_y(y_test)"
   ]
  },
  {
   "cell_type": "code",
   "execution_count": 7,
   "metadata": {},
   "outputs": [],
   "source": [
    "from keras.layers import BatchNormalization\n",
    "def build_mlp(input_shape, output_units=10, num_neurons=[256, 256, 256]):\n",
    "    \"\"\"\n",
    "    TO DO:\n",
    "    Build your own model\n",
    "    \"\"\"\n",
    "    input_layer = keras.layers.Input(input_shape)\n",
    "    \n",
    "    for i, n_units in enumerate(num_neurons):\n",
    "        if i == 0:\n",
    "            x = keras.layers.Dense(units=n_units, \n",
    "                                   activation=\"relu\", \n",
    "                                   name=\"hidden_layer\"+str(i+1))(input_layer)\n",
    "            x = BatchNormalization()(x)\n",
    "        else:\n",
    "            x = keras.layers.Dense(units=n_units, \n",
    "                                   activation=\"relu\", \n",
    "                                   name=\"hidden_layer\"+str(i+1))(x)\n",
    "            x = BatchNormalization()(x)\n",
    "    \n",
    "    out = keras.layers.Dense(units=output_units, activation=\"softmax\", name=\"output\")(x)\n",
    "    \n",
    "    model = keras.models.Model(inputs=[input_layer], outputs=[out])\n",
    "    return model\n"
   ]
  },
  {
   "cell_type": "code",
   "execution_count": 8,
   "metadata": {},
   "outputs": [],
   "source": [
    "## 超參數設定\n",
    "LEARNING_RATE = 1e-3\n",
    "EPOCHS = 25\n",
    "BATCH_SIZE = 1024\n",
    "MOMENTUM = 0.95"
   ]
  },
  {
   "cell_type": "code",
   "execution_count": 9,
   "metadata": {},
   "outputs": [],
   "source": [
    "# 載入 Callbacks\n",
    "from keras.callbacks import Callback\n",
    "\n",
    "# Record_fp_tp\n",
    "class Record_fp_tp(Callback):\n",
    "    \"\"\"Define a callback function to collect tp/tn, named Record_fp_tp.\n",
    "    \"\"\"\n",
    "    def on_train_begin(self, epoch, logs = {}):\n",
    "        logs = logs or {}\n",
    "        record_items = [\"val_auc\", \"val_f1sc\", \"val_fp\", \"val_fn\", \"val_tp\", \"val_tn\"]\n",
    "        for i in record_items:\n",
    "            if i not in self.params['metrics']:\n",
    "                self.params['metrics'].append(i)\n",
    "                \n",
    "    def on_epoch_end(self, epoch, logs = {}, thres=0.5):\n",
    "        logs = logs or {}\n",
    "        y_true = self.validation_data[1].argmax(axis = 1)\n",
    "        y_pred = self.model.predict(self.validation_data[0])\n",
    "        y_pred = (y_pred[:, 1] >= thres) * 1\n",
    "        \n",
    "        from sklearn.metrics import recall_score\n",
    "        # True positive rate, Recall, Sensitivity \n",
    "        logs['val_tp'] = recall_score(y_true, y_pred, average='weighted')\n",
    "        \n",
    "rec_tptn = Record_fp_tp()"
   ]
  },
  {
   "cell_type": "code",
   "execution_count": 10,
   "metadata": {
    "scrolled": true
   },
   "outputs": [
    {
     "name": "stdout",
     "output_type": "stream",
     "text": [
      "WARNING:tensorflow:From C:\\Users\\Administrator\\Anaconda3\\lib\\site-packages\\tensorflow\\python\\framework\\op_def_library.py:263: colocate_with (from tensorflow.python.framework.ops) is deprecated and will be removed in a future version.\n",
      "Instructions for updating:\n",
      "Colocations handled automatically by placer.\n",
      "_________________________________________________________________\n",
      "Layer (type)                 Output Shape              Param #   \n",
      "=================================================================\n",
      "input_1 (InputLayer)         (None, 3072)              0         \n",
      "_________________________________________________________________\n",
      "hidden_layer1 (Dense)        (None, 256)               786688    \n",
      "_________________________________________________________________\n",
      "batch_normalization_1 (Batch (None, 256)               1024      \n",
      "_________________________________________________________________\n",
      "hidden_layer2 (Dense)        (None, 256)               65792     \n",
      "_________________________________________________________________\n",
      "batch_normalization_2 (Batch (None, 256)               1024      \n",
      "_________________________________________________________________\n",
      "hidden_layer3 (Dense)        (None, 256)               65792     \n",
      "_________________________________________________________________\n",
      "batch_normalization_3 (Batch (None, 256)               1024      \n",
      "_________________________________________________________________\n",
      "output (Dense)               (None, 10)                2570      \n",
      "=================================================================\n",
      "Total params: 923,914\n",
      "Trainable params: 922,378\n",
      "Non-trainable params: 1,536\n",
      "_________________________________________________________________\n",
      "WARNING:tensorflow:From C:\\Users\\Administrator\\Anaconda3\\lib\\site-packages\\tensorflow\\python\\ops\\math_ops.py:3066: to_int32 (from tensorflow.python.ops.math_ops) is deprecated and will be removed in a future version.\n",
      "Instructions for updating:\n",
      "Use tf.cast instead.\n",
      "Train on 50000 samples, validate on 10000 samples\n",
      "Epoch 1/25\n",
      "50000/50000 [==============================] - 4s 85us/step - loss: 2.2203 - acc: 0.2680 - val_loss: 2.1412 - val_acc: 0.3056\n",
      "Epoch 2/25\n",
      "50000/50000 [==============================] - 4s 74us/step - loss: 1.7681 - acc: 0.3850 - val_loss: 1.8521 - val_acc: 0.3646\n",
      "Epoch 3/25\n",
      "50000/50000 [==============================] - 4s 78us/step - loss: 1.6384 - acc: 0.4260 - val_loss: 1.7058 - val_acc: 0.4064\n",
      "Epoch 4/25\n",
      "50000/50000 [==============================] - 4s 72us/step - loss: 1.5629 - acc: 0.4519 - val_loss: 1.6378 - val_acc: 0.4243\n",
      "Epoch 5/25\n",
      "50000/50000 [==============================] - 4s 78us/step - loss: 1.5061 - acc: 0.4709 - val_loss: 1.5980 - val_acc: 0.4432\n",
      "Epoch 6/25\n",
      "50000/50000 [==============================] - 4s 76us/step - loss: 1.4615 - acc: 0.4879 - val_loss: 1.5689 - val_acc: 0.4556\n",
      "Epoch 7/25\n",
      "50000/50000 [==============================] - 4s 76us/step - loss: 1.4228 - acc: 0.5040 - val_loss: 1.5465 - val_acc: 0.4644\n",
      "Epoch 8/25\n",
      "50000/50000 [==============================] - 4s 84us/step - loss: 1.3895 - acc: 0.5150 - val_loss: 1.5297 - val_acc: 0.4674\n",
      "Epoch 9/25\n",
      "50000/50000 [==============================] - 4s 73us/step - loss: 1.3588 - acc: 0.5253 - val_loss: 1.5164 - val_acc: 0.4699\n",
      "Epoch 10/25\n",
      "50000/50000 [==============================] - 4s 72us/step - loss: 1.3317 - acc: 0.5342 - val_loss: 1.5039 - val_acc: 0.4796\n",
      "Epoch 11/25\n",
      "50000/50000 [==============================] - 4s 72us/step - loss: 1.3045 - acc: 0.5449 - val_loss: 1.4855 - val_acc: 0.4825\n",
      "Epoch 12/25\n",
      "50000/50000 [==============================] - 4s 71us/step - loss: 1.2821 - acc: 0.5538 - val_loss: 1.4987 - val_acc: 0.4753\n",
      "Epoch 13/25\n",
      "50000/50000 [==============================] - 4s 71us/step - loss: 1.2583 - acc: 0.5622 - val_loss: 1.4887 - val_acc: 0.4830\n",
      "Epoch 14/25\n",
      "50000/50000 [==============================] - 4s 71us/step - loss: 1.2354 - acc: 0.5730 - val_loss: 1.4657 - val_acc: 0.4907\n",
      "Epoch 15/25\n",
      "50000/50000 [==============================] - 4s 71us/step - loss: 1.2145 - acc: 0.5788 - val_loss: 1.4615 - val_acc: 0.4939\n",
      "Epoch 16/25\n",
      "50000/50000 [==============================] - 4s 73us/step - loss: 1.1933 - acc: 0.5869 - val_loss: 1.4628 - val_acc: 0.4902\n",
      "Epoch 17/25\n",
      "50000/50000 [==============================] - 4s 74us/step - loss: 1.1741 - acc: 0.5941 - val_loss: 1.4608 - val_acc: 0.4928\n",
      "Epoch 18/25\n",
      "50000/50000 [==============================] - 4s 75us/step - loss: 1.1561 - acc: 0.5987 - val_loss: 1.4488 - val_acc: 0.4940\n",
      "Epoch 19/25\n",
      "50000/50000 [==============================] - 4s 79us/step - loss: 1.1367 - acc: 0.6086 - val_loss: 1.4562 - val_acc: 0.4938\n",
      "Epoch 20/25\n",
      "50000/50000 [==============================] - 4s 85us/step - loss: 1.1177 - acc: 0.6143 - val_loss: 1.4623 - val_acc: 0.4933\n",
      "Epoch 21/25\n",
      "50000/50000 [==============================] - 4s 85us/step - loss: 1.1018 - acc: 0.6210 - val_loss: 1.4455 - val_acc: 0.4996\n",
      "Epoch 22/25\n",
      "50000/50000 [==============================] - 4s 85us/step - loss: 1.0812 - acc: 0.6285 - val_loss: 1.4449 - val_acc: 0.4970\n",
      "Epoch 23/25\n",
      "50000/50000 [==============================] - 4s 87us/step - loss: 1.0641 - acc: 0.6351 - val_loss: 1.4530 - val_acc: 0.4966\n",
      "Epoch 24/25\n",
      "50000/50000 [==============================] - 4s 80us/step - loss: 1.0484 - acc: 0.6404 - val_loss: 1.4481 - val_acc: 0.4996\n",
      "Epoch 25/25\n",
      "50000/50000 [==============================] - 4s 79us/step - loss: 1.0327 - acc: 0.6472 - val_loss: 1.4475 - val_acc: 0.5011\n"
     ]
    }
   ],
   "source": [
    "model = build_mlp(input_shape=x_train.shape[1:])\n",
    "model.summary()\n",
    "optimizer = keras.optimizers.SGD(lr=LEARNING_RATE, nesterov=True, momentum=MOMENTUM)\n",
    "model.compile(loss=\"categorical_crossentropy\", metrics=[\"accuracy\"], optimizer=optimizer)\n",
    "\n",
    "\"\"\"\n",
    "To do:\n",
    "Fit the model with rec_tptn callback_fn\n",
    "\"\"\"\n",
    "model.fit(x_train, y_train, \n",
    "          epochs=EPOCHS, \n",
    "          batch_size=BATCH_SIZE, \n",
    "          validation_data=(x_test, y_test), \n",
    "          shuffle=True,\n",
    "          callbacks=[rec_tptn])\n",
    "\n",
    "\n",
    "# Collect results\n",
    "train_loss = model.history.history[\"loss\"]\n",
    "valid_loss = model.history.history[\"val_loss\"]\n",
    "train_acc = model.history.history[\"acc\"]\n",
    "valid_acc = model.history.history[\"val_acc\"]\n",
    "\n",
    "\"\"\"\n",
    "To do:\n",
    "Collect tp/tn from model history\n",
    "\"\"\"\n",
    "valid_tp = model.history.history[\"val_tp\"]\n",
    "valid_tn = [acc * 2 - tp for (acc, tp) in zip(valid_acc, valid_tp)]"
   ]
  },
  {
   "cell_type": "code",
   "execution_count": 11,
   "metadata": {},
   "outputs": [
    {
     "data": {
      "image/png": "[encoded data removed]",
      "text/plain": [
       "<Figure size 432x288 with 1 Axes>"
      ]
     },
     "metadata": {
      "needs_background": "light"
     },
     "output_type": "display_data"
    },
    {
     "data": {
      "image/png": "[encoded data removed]",
      "text/plain": [
       "<Figure size 432x288 with 1 Axes>"
      ]
     },
     "metadata": {
      "needs_background": "light"
     },
     "output_type": "display_data"
    },
    {
     "data": {
      "image/png": "[encoded data removed]",
      "text/plain": [
       "<Figure size 432x288 with 1 Axes>"
      ]
     },
     "metadata": {
      "needs_background": "light"
     },
     "output_type": "display_data"
    }
   ],
   "source": [
    "import matplotlib.pyplot as plt\n",
    "%matplotlib inline\n",
    "\n",
    "plt.plot(range(len(train_loss)), train_loss, label=\"train loss\")\n",
    "plt.plot(range(len(valid_loss)), valid_loss, label=\"valid loss\")\n",
    "plt.legend()\n",
    "plt.title(\"Loss\")\n",
    "plt.show()\n",
    "\n",
    "plt.plot(range(len(train_acc)), train_acc, label=\"train accuracy\")\n",
    "plt.plot(range(len(valid_acc)), valid_acc, label=\"valid accuracy\")\n",
    "plt.legend()\n",
    "plt.title(\"Accuracy\")\n",
    "plt.show()\n",
    "\n",
    "plt.plot(range(len(valid_tp)), valid_tp, label=\"valid tp\", color=\"navy\")\n",
    "plt.plot(range(len(valid_tn)), valid_tn, label=\"valid tn\", color=\"red\")\n",
    "plt.legend()\n",
    "plt.title(\"True positives and True Negatives\")\n",
    "plt.show()\n"
   ]
  },
  {
   "cell_type": "code",
   "execution_count": null,
   "metadata": {},
   "outputs": [],
   "source": []
  }
 ],
 "metadata": {
  "kernelspec": {
   "display_name": "Python 3",
   "language": "python",
   "name": "python3"
  },
  "language_info": {
   "codemirror_mode": {
    "name": "ipython",
    "version": 3
   },
   "file_extension": ".py",
   "mimetype": "text/x-python",
   "name": "python",
   "nbconvert_exporter": "python",
   "pygments_lexer": "ipython3",
   "version": "3.6.8"
  }
 },
 "nbformat": 4,
 "nbformat_minor": 2
}
