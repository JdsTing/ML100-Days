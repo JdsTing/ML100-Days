{
 "cells": [
  {
   "cell_type": "markdown",
   "metadata": {},
   "source": [
    "## Work\n",
    "1. 請嘗試將 preproc_x 替換成以每筆資料的 min/max 進行標準化至 -1 ~ 1 間，再進行訓練\n",
    "2. 請嘗試將 mlp 疊更深 (e.g 5~10 層)，進行訓練後觀察 learning curve 的走勢\n",
    "3. (optional) 請改用 GPU 進行訓練 (如果你有 GPU 的話)，比較使用 CPU 與 GPU 的訓練速度"
   ]
  },
  {
   "cell_type": "code",
   "execution_count": 4,
   "metadata": {},
   "outputs": [
    {
     "data": {
      "text/plain": [
       "'\\nYour code here\\n'"
      ]
     },
     "execution_count": 4,
     "metadata": {},
     "output_type": "execute_result"
    }
   ],
   "source": [
    "## 確認硬體資源\n",
    "\"\"\"\n",
    "Your code here\n",
    "\"\"\"\n",
    "# 無顯卡\n",
    "# !nvidia-smi"
   ]
  },
  {
   "cell_type": "code",
   "execution_count": 5,
   "metadata": {},
   "outputs": [
    {
     "name": "stderr",
     "output_type": "stream",
     "text": [
      "Using TensorFlow backend.\n"
     ]
    }
   ],
   "source": [
    "import os\n",
    "import keras\n",
    "\n",
    "# Try to enable GPU (optional)\n",
    "  # Disable GPU\n",
    "  # os.environ[\"CUDA_VISIBLE_DEVICES\"] = \"\""
   ]
  },
  {
   "cell_type": "code",
   "execution_count": 6,
   "metadata": {},
   "outputs": [],
   "source": [
    "train, test = keras.datasets.cifar10.load_data()"
   ]
  },
  {
   "cell_type": "code",
   "execution_count": 7,
   "metadata": {},
   "outputs": [],
   "source": [
    "## 資料前處理\n",
    "\"\"\"\n",
    "Your code here\n",
    "\"\"\"\n",
    "def preproc_x(x,flatten=True):\n",
    "    \n",
    "    x = (x - x.min(axis=0)) / (x.max(axis=0) - x.min(axis=0)) * 2 - 1\n",
    "       \n",
    "    if flatten:\n",
    "        x = x.reshape(len(x), -1)\n",
    "    return x\n",
    "\n",
    "    \n",
    "def preproc_y(y,num_classes=10):\n",
    "    \n",
    "    if y.shape[-1] == 1:\n",
    "        y = keras.utils.to_categorical(y, num_classes)\n",
    "    return y"
   ]
  },
  {
   "cell_type": "code",
   "execution_count": 8,
   "metadata": {},
   "outputs": [],
   "source": [
    "x_train, y_train = train\n",
    "x_test, y_test = test\n",
    "\n",
    "# Preproc the inputs\n",
    "x_train = preproc_x(x_train)\n",
    "x_test = preproc_x(x_test)\n",
    "\n",
    "# Preprc the outputs\n",
    "y_train = preproc_y(y_train)\n",
    "y_test = preproc_y(y_test)"
   ]
  },
  {
   "cell_type": "code",
   "execution_count": 12,
   "metadata": {},
   "outputs": [
    {
     "name": "stdout",
     "output_type": "stream",
     "text": [
      "_________________________________________________________________\n",
      "Layer (type)                 Output Shape              Param #   \n",
      "=================================================================\n",
      "input_1 (InputLayer)         (None, 3072)              0         \n",
      "_________________________________________________________________\n",
      "hidden_layer1 (Dense)        (None, 512)               1573376   \n",
      "_________________________________________________________________\n",
      "hidden_layer2 (Dense)        (None, 256)               131328    \n",
      "_________________________________________________________________\n",
      "hidden_layer3 (Dense)        (None, 128)               32896     \n",
      "_________________________________________________________________\n",
      "hidden_layer4 (Dense)        (None, 512)               66048     \n",
      "_________________________________________________________________\n",
      "hidden_layer5 (Dense)        (None, 256)               131328    \n",
      "_________________________________________________________________\n",
      "hidden_layer6 (Dense)        (None, 128)               32896     \n",
      "_________________________________________________________________\n",
      "output (Dense)               (None, 10)                1290      \n",
      "=================================================================\n",
      "Total params: 1,969,162\n",
      "Trainable params: 1,969,162\n",
      "Non-trainable params: 0\n",
      "_________________________________________________________________\n"
     ]
    }
   ],
   "source": [
    "\"\"\"\n",
    "Your code here\n",
    "\"\"\"\n",
    "def build_mlp(input_shape, output_units=10, num_neurons=[512, 256, 128, 512, 256, 128]):\n",
    "    input_layer = keras.layers.Input(input_shape)\n",
    "    \n",
    "    for i, n_units in enumerate(num_neurons):\n",
    "        if i == 0:\n",
    "            x = keras.layers.Dense(units=n_units, activation=\"relu\", name=\"hidden_layer\"+str(i+1))(input_layer)\n",
    "        else:\n",
    "            x = keras.layers.Dense(units=n_units, activation=\"relu\", name=\"hidden_layer\"+str(i+1))(x)\n",
    "    \n",
    "    out = keras.layers.Dense(units=output_units, activation=\"softmax\", name=\"output\")(x)\n",
    "    \n",
    "    model = keras.models.Model(inputs=[input_layer], outputs=[out])\n",
    "    return model\n",
    "model = build_mlp(input_shape=x_train.shape[1:])\n",
    "model.summary()"
   ]
  },
  {
   "cell_type": "code",
   "execution_count": 13,
   "metadata": {},
   "outputs": [],
   "source": [
    "## 超參數設定\n",
    "LEARNING_RATE = 0.001\n",
    "EPOCHS = 100\n",
    "BATCH_SIZE = 256"
   ]
  },
  {
   "cell_type": "code",
   "execution_count": 14,
   "metadata": {},
   "outputs": [],
   "source": [
    "optimizer = keras.optimizers.Adam(lr=LEARNING_RATE)\n",
    "model.compile(loss=\"categorical_crossentropy\", metrics=[\"accuracy\"], optimizer=optimizer)"
   ]
  },
  {
   "cell_type": "code",
   "execution_count": 15,
   "metadata": {},
   "outputs": [
    {
     "name": "stdout",
     "output_type": "stream",
     "text": [
      "WARNING:tensorflow:From C:\\Users\\Administrator\\Anaconda3\\lib\\site-packages\\tensorflow\\python\\ops\\math_ops.py:3066: to_int32 (from tensorflow.python.ops.math_ops) is deprecated and will be removed in a future version.\n",
      "Instructions for updating:\n",
      "Use tf.cast instead.\n",
      "Train on 50000 samples, validate on 10000 samples\n",
      "Epoch 1/100\n",
      "50000/50000 [==============================] - 10s 203us/step - loss: 1.6974 - acc: 0.3943 - val_loss: 1.5659 - val_acc: 0.4475\n",
      "Epoch 2/100\n",
      "50000/50000 [==============================] - 10s 194us/step - loss: 1.4643 - acc: 0.4826 - val_loss: 1.4482 - val_acc: 0.4875\n",
      "Epoch 3/100\n",
      "50000/50000 [==============================] - 10s 194us/step - loss: 1.3473 - acc: 0.5234 - val_loss: 1.4116 - val_acc: 0.5030\n",
      "Epoch 4/100\n",
      "50000/50000 [==============================] - 11s 212us/step - loss: 1.2554 - acc: 0.5550 - val_loss: 1.3929 - val_acc: 0.5117\n",
      "Epoch 5/100\n",
      "50000/50000 [==============================] - 10s 195us/step - loss: 1.1652 - acc: 0.5857 - val_loss: 1.3828 - val_acc: 0.5139\n",
      "Epoch 6/100\n",
      "50000/50000 [==============================] - 10s 198us/step - loss: 1.0941 - acc: 0.6127 - val_loss: 1.3485 - val_acc: 0.5260\n",
      "Epoch 7/100\n",
      "50000/50000 [==============================] - 10s 197us/step - loss: 1.0186 - acc: 0.6386 - val_loss: 1.3532 - val_acc: 0.5365\n",
      "Epoch 8/100\n",
      "50000/50000 [==============================] - 10s 197us/step - loss: 0.9423 - acc: 0.6656 - val_loss: 1.4113 - val_acc: 0.5232\n",
      "Epoch 9/100\n",
      "50000/50000 [==============================] - 10s 194us/step - loss: 0.8806 - acc: 0.6860 - val_loss: 1.4259 - val_acc: 0.5420\n",
      "Epoch 10/100\n",
      "50000/50000 [==============================] - 10s 202us/step - loss: 0.8193 - acc: 0.7068 - val_loss: 1.4770 - val_acc: 0.5318\n",
      "Epoch 11/100\n",
      "50000/50000 [==============================] - 11s 212us/step - loss: 0.7516 - acc: 0.7315 - val_loss: 1.5356 - val_acc: 0.5365\n",
      "Epoch 12/100\n",
      "50000/50000 [==============================] - 10s 207us/step - loss: 0.6824 - acc: 0.7560 - val_loss: 1.5993 - val_acc: 0.5230\n",
      "Epoch 13/100\n",
      "50000/50000 [==============================] - 10s 209us/step - loss: 0.6313 - acc: 0.7732 - val_loss: 1.6594 - val_acc: 0.5358\n",
      "Epoch 14/100\n",
      "50000/50000 [==============================] - 11s 210us/step - loss: 0.5892 - acc: 0.7906 - val_loss: 1.7364 - val_acc: 0.5262\n",
      "Epoch 15/100\n",
      "50000/50000 [==============================] - 11s 213us/step - loss: 0.5351 - acc: 0.8069 - val_loss: 1.8297 - val_acc: 0.5288\n",
      "Epoch 16/100\n",
      "50000/50000 [==============================] - 11s 215us/step - loss: 0.4965 - acc: 0.8220 - val_loss: 1.8143 - val_acc: 0.5369\n",
      "Epoch 17/100\n",
      "50000/50000 [==============================] - 11s 217us/step - loss: 0.4554 - acc: 0.8374 - val_loss: 1.9014 - val_acc: 0.5299\n",
      "Epoch 18/100\n",
      "50000/50000 [==============================] - 11s 220us/step - loss: 0.4139 - acc: 0.8512 - val_loss: 2.0237 - val_acc: 0.5376\n",
      "Epoch 19/100\n",
      "50000/50000 [==============================] - 11s 229us/step - loss: 0.3863 - acc: 0.8620 - val_loss: 2.1135 - val_acc: 0.5325\n",
      "Epoch 20/100\n",
      "50000/50000 [==============================] - 11s 227us/step - loss: 0.3509 - acc: 0.8766 - val_loss: 2.2226 - val_acc: 0.5341\n",
      "Epoch 21/100\n",
      "50000/50000 [==============================] - 12s 231us/step - loss: 0.3428 - acc: 0.8784 - val_loss: 2.1832 - val_acc: 0.5294\n",
      "Epoch 22/100\n",
      "50000/50000 [==============================] - 12s 233us/step - loss: 0.3213 - acc: 0.8864 - val_loss: 2.2567 - val_acc: 0.5358\n",
      "Epoch 23/100\n",
      "50000/50000 [==============================] - 12s 235us/step - loss: 0.2995 - acc: 0.8942 - val_loss: 2.3396 - val_acc: 0.5246\n",
      "Epoch 24/100\n",
      "50000/50000 [==============================] - 12s 237us/step - loss: 0.2736 - acc: 0.9037 - val_loss: 2.4722 - val_acc: 0.5308\n",
      "Epoch 25/100\n",
      "50000/50000 [==============================] - 12s 238us/step - loss: 0.2536 - acc: 0.9104 - val_loss: 2.6316 - val_acc: 0.5359\n",
      "Epoch 26/100\n",
      "50000/50000 [==============================] - 12s 240us/step - loss: 0.2471 - acc: 0.9141 - val_loss: 2.6243 - val_acc: 0.5332\n",
      "Epoch 27/100\n",
      "50000/50000 [==============================] - 12s 241us/step - loss: 0.2351 - acc: 0.9183 - val_loss: 2.7881 - val_acc: 0.5353\n",
      "Epoch 28/100\n",
      "50000/50000 [==============================] - 12s 244us/step - loss: 0.2172 - acc: 0.9238 - val_loss: 2.6914 - val_acc: 0.5355\n",
      "Epoch 29/100\n",
      "50000/50000 [==============================] - 12s 245us/step - loss: 0.2201 - acc: 0.9217 - val_loss: 2.7578 - val_acc: 0.5361\n",
      "Epoch 30/100\n",
      "50000/50000 [==============================] - 12s 244us/step - loss: 0.2098 - acc: 0.9274 - val_loss: 2.8964 - val_acc: 0.5219\n",
      "Epoch 31/100\n",
      "50000/50000 [==============================] - 12s 244us/step - loss: 0.1972 - acc: 0.9319 - val_loss: 2.8122 - val_acc: 0.5260\n",
      "Epoch 32/100\n",
      "50000/50000 [==============================] - 12s 246us/step - loss: 0.1858 - acc: 0.9363 - val_loss: 2.7598 - val_acc: 0.5323\n",
      "Epoch 33/100\n",
      "50000/50000 [==============================] - 12s 249us/step - loss: 0.1870 - acc: 0.9352 - val_loss: 2.9069 - val_acc: 0.5221\n",
      "Epoch 34/100\n",
      "50000/50000 [==============================] - 12s 247us/step - loss: 0.1742 - acc: 0.9405 - val_loss: 2.8976 - val_acc: 0.5324\n",
      "Epoch 35/100\n",
      "50000/50000 [==============================] - 12s 249us/step - loss: 0.1737 - acc: 0.9412 - val_loss: 3.0174 - val_acc: 0.5259\n",
      "Epoch 36/100\n",
      "50000/50000 [==============================] - 12s 248us/step - loss: 0.1634 - acc: 0.9442 - val_loss: 3.0381 - val_acc: 0.5322\n",
      "Epoch 37/100\n",
      "50000/50000 [==============================] - 12s 248us/step - loss: 0.1639 - acc: 0.9439 - val_loss: 2.9491 - val_acc: 0.5379\n",
      "Epoch 38/100\n",
      "50000/50000 [==============================] - 12s 248us/step - loss: 0.1499 - acc: 0.9489 - val_loss: 3.0543 - val_acc: 0.5296\n",
      "Epoch 39/100\n",
      "50000/50000 [==============================] - 12s 248us/step - loss: 0.1559 - acc: 0.9473 - val_loss: 3.1940 - val_acc: 0.5259\n",
      "Epoch 40/100\n",
      "50000/50000 [==============================] - 12s 247us/step - loss: 0.1354 - acc: 0.9537 - val_loss: 3.2802 - val_acc: 0.5316\n",
      "Epoch 41/100\n",
      "50000/50000 [==============================] - 12s 247us/step - loss: 0.1510 - acc: 0.9488 - val_loss: 3.0534 - val_acc: 0.5283\n",
      "Epoch 42/100\n",
      "50000/50000 [==============================] - 12s 249us/step - loss: 0.1485 - acc: 0.9502 - val_loss: 3.1768 - val_acc: 0.5337\n",
      "Epoch 43/100\n",
      "50000/50000 [==============================] - 12s 247us/step - loss: 0.1334 - acc: 0.9557 - val_loss: 3.2044 - val_acc: 0.5302\n",
      "Epoch 44/100\n",
      "50000/50000 [==============================] - 12s 248us/step - loss: 0.1339 - acc: 0.9555 - val_loss: 3.0883 - val_acc: 0.5288\n",
      "Epoch 45/100\n",
      "50000/50000 [==============================] - 12s 249us/step - loss: 0.1287 - acc: 0.9569 - val_loss: 3.2780 - val_acc: 0.5254\n",
      "Epoch 46/100\n",
      "50000/50000 [==============================] - 12s 247us/step - loss: 0.1292 - acc: 0.9576 - val_loss: 3.2630 - val_acc: 0.5341\n",
      "Epoch 47/100\n",
      "50000/50000 [==============================] - 12s 247us/step - loss: 0.1298 - acc: 0.9568 - val_loss: 3.3064 - val_acc: 0.5348\n",
      "Epoch 48/100\n",
      "50000/50000 [==============================] - 12s 247us/step - loss: 0.1248 - acc: 0.9579 - val_loss: 3.2017 - val_acc: 0.5273\n",
      "Epoch 49/100\n",
      "50000/50000 [==============================] - 12s 247us/step - loss: 0.1210 - acc: 0.9599 - val_loss: 3.3452 - val_acc: 0.5368\n",
      "Epoch 50/100\n",
      "50000/50000 [==============================] - 12s 246us/step - loss: 0.1216 - acc: 0.9608 - val_loss: 3.2167 - val_acc: 0.5249\n",
      "Epoch 51/100\n",
      "50000/50000 [==============================] - 12s 243us/step - loss: 0.1233 - acc: 0.9593 - val_loss: 3.2772 - val_acc: 0.5357\n",
      "Epoch 52/100\n",
      "50000/50000 [==============================] - 12s 242us/step - loss: 0.1201 - acc: 0.9602 - val_loss: 3.2592 - val_acc: 0.5310\n",
      "Epoch 53/100\n",
      "50000/50000 [==============================] - 12s 242us/step - loss: 0.1110 - acc: 0.9623 - val_loss: 3.3987 - val_acc: 0.5211\n",
      "Epoch 54/100\n",
      "50000/50000 [==============================] - 12s 243us/step - loss: 0.1122 - acc: 0.9625 - val_loss: 3.4010 - val_acc: 0.5298\n",
      "Epoch 55/100\n",
      "50000/50000 [==============================] - 12s 243us/step - loss: 0.1069 - acc: 0.9658 - val_loss: 3.4137 - val_acc: 0.5297\n",
      "Epoch 56/100\n"
     ]
    },
    {
     "name": "stdout",
     "output_type": "stream",
     "text": [
      "50000/50000 [==============================] - 12s 239us/step - loss: 0.1025 - acc: 0.9663 - val_loss: 3.4465 - val_acc: 0.5338\n",
      "Epoch 57/100\n",
      "50000/50000 [==============================] - 12s 238us/step - loss: 0.1035 - acc: 0.9657 - val_loss: 3.4134 - val_acc: 0.5321\n",
      "Epoch 58/100\n",
      "50000/50000 [==============================] - 12s 238us/step - loss: 0.1132 - acc: 0.9627 - val_loss: 3.2427 - val_acc: 0.5328\n",
      "Epoch 59/100\n",
      "50000/50000 [==============================] - 12s 237us/step - loss: 0.0977 - acc: 0.9671 - val_loss: 3.4170 - val_acc: 0.5249\n",
      "Epoch 60/100\n",
      "50000/50000 [==============================] - 12s 238us/step - loss: 0.1061 - acc: 0.9655 - val_loss: 3.3516 - val_acc: 0.5236\n",
      "Epoch 61/100\n",
      "50000/50000 [==============================] - 12s 236us/step - loss: 0.1107 - acc: 0.9632 - val_loss: 3.3929 - val_acc: 0.5329\n",
      "Epoch 62/100\n",
      "50000/50000 [==============================] - 12s 236us/step - loss: 0.0954 - acc: 0.9689 - val_loss: 3.3147 - val_acc: 0.5290\n",
      "Epoch 63/100\n",
      "50000/50000 [==============================] - 12s 237us/step - loss: 0.0902 - acc: 0.9707 - val_loss: 3.4918 - val_acc: 0.5359\n",
      "Epoch 64/100\n",
      "50000/50000 [==============================] - 12s 236us/step - loss: 0.1035 - acc: 0.9651 - val_loss: 3.3187 - val_acc: 0.5357\n",
      "Epoch 65/100\n",
      "50000/50000 [==============================] - 12s 235us/step - loss: 0.1026 - acc: 0.9673 - val_loss: 3.4343 - val_acc: 0.5309\n",
      "Epoch 66/100\n",
      "50000/50000 [==============================] - 12s 238us/step - loss: 0.0867 - acc: 0.9723 - val_loss: 3.4554 - val_acc: 0.5296\n",
      "Epoch 67/100\n",
      "50000/50000 [==============================] - 12s 237us/step - loss: 0.0988 - acc: 0.9682 - val_loss: 3.4391 - val_acc: 0.5259\n",
      "Epoch 68/100\n",
      "50000/50000 [==============================] - 12s 236us/step - loss: 0.1021 - acc: 0.9672 - val_loss: 3.5223 - val_acc: 0.5341\n",
      "Epoch 69/100\n",
      "50000/50000 [==============================] - 12s 236us/step - loss: 0.0792 - acc: 0.9740 - val_loss: 3.5618 - val_acc: 0.5379\n",
      "Epoch 70/100\n",
      "50000/50000 [==============================] - 12s 237us/step - loss: 0.0844 - acc: 0.9723 - val_loss: 3.6447 - val_acc: 0.5337\n",
      "Epoch 71/100\n",
      "50000/50000 [==============================] - 12s 238us/step - loss: 0.1018 - acc: 0.9673 - val_loss: 3.4979 - val_acc: 0.5359\n",
      "Epoch 72/100\n",
      "50000/50000 [==============================] - 12s 238us/step - loss: 0.1022 - acc: 0.9677 - val_loss: 3.4009 - val_acc: 0.5339\n",
      "Epoch 73/100\n",
      "50000/50000 [==============================] - 12s 239us/step - loss: 0.0811 - acc: 0.9740 - val_loss: 3.5178 - val_acc: 0.5316\n",
      "Epoch 74/100\n",
      "50000/50000 [==============================] - 12s 238us/step - loss: 0.0923 - acc: 0.9700 - val_loss: 3.3737 - val_acc: 0.5311\n",
      "Epoch 75/100\n",
      "50000/50000 [==============================] - 12s 238us/step - loss: 0.0774 - acc: 0.9752 - val_loss: 3.4985 - val_acc: 0.5327\n",
      "Epoch 76/100\n",
      "50000/50000 [==============================] - 12s 238us/step - loss: 0.0880 - acc: 0.9713 - val_loss: 3.5147 - val_acc: 0.5339\n",
      "Epoch 77/100\n",
      "50000/50000 [==============================] - 12s 238us/step - loss: 0.0814 - acc: 0.9738 - val_loss: 3.5723 - val_acc: 0.5352\n",
      "Epoch 78/100\n",
      "50000/50000 [==============================] - 12s 238us/step - loss: 0.0780 - acc: 0.9744 - val_loss: 3.5166 - val_acc: 0.5304\n",
      "Epoch 79/100\n",
      "50000/50000 [==============================] - 12s 237us/step - loss: 0.0819 - acc: 0.9746 - val_loss: 3.5274 - val_acc: 0.5294\n",
      "Epoch 80/100\n",
      "50000/50000 [==============================] - 12s 238us/step - loss: 0.0870 - acc: 0.9719 - val_loss: 3.5854 - val_acc: 0.5248\n",
      "Epoch 81/100\n",
      "50000/50000 [==============================] - 12s 237us/step - loss: 0.0849 - acc: 0.9733 - val_loss: 3.6460 - val_acc: 0.5168\n",
      "Epoch 82/100\n",
      "50000/50000 [==============================] - 12s 237us/step - loss: 0.0768 - acc: 0.9753 - val_loss: 3.5938 - val_acc: 0.5300\n",
      "Epoch 83/100\n",
      "50000/50000 [==============================] - 12s 236us/step - loss: 0.0792 - acc: 0.9753 - val_loss: 3.5529 - val_acc: 0.5326\n",
      "Epoch 84/100\n",
      "50000/50000 [==============================] - 12s 237us/step - loss: 0.0861 - acc: 0.9719 - val_loss: 3.4644 - val_acc: 0.5310\n",
      "Epoch 85/100\n",
      "50000/50000 [==============================] - 12s 238us/step - loss: 0.0773 - acc: 0.9755 - val_loss: 3.6113 - val_acc: 0.5311\n",
      "Epoch 86/100\n",
      "50000/50000 [==============================] - 12s 240us/step - loss: 0.0762 - acc: 0.9751 - val_loss: 3.5933 - val_acc: 0.5285\n",
      "Epoch 87/100\n",
      "50000/50000 [==============================] - 12s 239us/step - loss: 0.0752 - acc: 0.9754 - val_loss: 3.6390 - val_acc: 0.5306\n",
      "Epoch 88/100\n",
      "50000/50000 [==============================] - 12s 237us/step - loss: 0.0716 - acc: 0.9772 - val_loss: 3.5882 - val_acc: 0.5346\n",
      "Epoch 89/100\n",
      "50000/50000 [==============================] - 12s 238us/step - loss: 0.0763 - acc: 0.9752 - val_loss: 3.6008 - val_acc: 0.5377\n",
      "Epoch 90/100\n",
      "50000/50000 [==============================] - 12s 239us/step - loss: 0.0807 - acc: 0.9745 - val_loss: 3.6020 - val_acc: 0.5297\n",
      "Epoch 91/100\n",
      "50000/50000 [==============================] - 12s 238us/step - loss: 0.0723 - acc: 0.9781 - val_loss: 3.6150 - val_acc: 0.5232\n",
      "Epoch 92/100\n",
      "50000/50000 [==============================] - 12s 238us/step - loss: 0.0816 - acc: 0.9747 - val_loss: 3.6480 - val_acc: 0.5343\n",
      "Epoch 93/100\n",
      "50000/50000 [==============================] - 12s 239us/step - loss: 0.0778 - acc: 0.9750 - val_loss: 3.5690 - val_acc: 0.5336\n",
      "Epoch 94/100\n",
      "50000/50000 [==============================] - 12s 238us/step - loss: 0.0679 - acc: 0.9792 - val_loss: 3.7612 - val_acc: 0.5347\n",
      "Epoch 95/100\n",
      "50000/50000 [==============================] - 12s 239us/step - loss: 0.0735 - acc: 0.9765 - val_loss: 3.5205 - val_acc: 0.5338\n",
      "Epoch 96/100\n",
      "50000/50000 [==============================] - 12s 238us/step - loss: 0.0653 - acc: 0.9795 - val_loss: 3.5234 - val_acc: 0.5305\n",
      "Epoch 97/100\n",
      "50000/50000 [==============================] - 12s 238us/step - loss: 0.0720 - acc: 0.9775 - val_loss: 3.5483 - val_acc: 0.5356\n",
      "Epoch 98/100\n",
      "50000/50000 [==============================] - 12s 238us/step - loss: 0.0726 - acc: 0.9776 - val_loss: 3.6647 - val_acc: 0.5336\n",
      "Epoch 99/100\n",
      "50000/50000 [==============================] - 12s 239us/step - loss: 0.0862 - acc: 0.9737 - val_loss: 3.5387 - val_acc: 0.5261\n",
      "Epoch 100/100\n",
      "50000/50000 [==============================] - 12s 240us/step - loss: 0.0698 - acc: 0.9780 - val_loss: 3.5861 - val_acc: 0.5284\n"
     ]
    },
    {
     "data": {
      "text/plain": [
       "<keras.callbacks.History at 0x165d8c88>"
      ]
     },
     "execution_count": 15,
     "metadata": {},
     "output_type": "execute_result"
    }
   ],
   "source": [
    "model.fit(x_train, y_train, \n",
    "          epochs=EPOCHS, \n",
    "          batch_size=BATCH_SIZE, \n",
    "          validation_data=(x_test, y_test), \n",
    "          shuffle=True)"
   ]
  },
  {
   "cell_type": "code",
   "execution_count": 17,
   "metadata": {},
   "outputs": [
    {
     "data": {
      "image/png": "[encoded data removed]",
      "text/plain": [
       "<Figure size 432x288 with 1 Axes>"
      ]
     },
     "metadata": {
      "needs_background": "light"
     },
     "output_type": "display_data"
    },
    {
     "data": {
      "image/png": "[encoded data removed]",
      "text/plain": [
       "<Figure size 432x288 with 1 Axes>"
      ]
     },
     "metadata": {
      "needs_background": "light"
     },
     "output_type": "display_data"
    }
   ],
   "source": [
    "import matplotlib.pyplot as plt\n",
    "\n",
    "\n",
    "train_loss = model.history.history[\"loss\"]\n",
    "valid_loss = model.history.history[\"val_loss\"]\n",
    "\n",
    "train_acc = model.history.history[\"acc\"]\n",
    "valid_acc = model.history.history[\"val_acc\"]\n",
    "\n",
    "plt.plot(range(len(train_loss)), train_loss, label=\"train loss\")\n",
    "plt.plot(range(len(valid_loss)), valid_loss, label=\"valid loss\")\n",
    "plt.legend()\n",
    "plt.title(\"Loss\")\n",
    "plt.show()\n",
    "\n",
    "plt.plot(range(len(train_acc)), train_acc, label=\"train accuracy\")\n",
    "plt.plot(range(len(valid_acc)), valid_acc, label=\"valid accuracy\")\n",
    "plt.legend()\n",
    "plt.title(\"Accuracy\")\n",
    "plt.show()"
   ]
  },
  {
   "cell_type": "code",
   "execution_count": null,
   "metadata": {},
   "outputs": [],
   "source": []
  }
 ],
 "metadata": {
  "kernelspec": {
   "display_name": "Python 3",
   "language": "python",
   "name": "python3"
  },
  "language_info": {
   "codemirror_mode": {
    "name": "ipython",
    "version": 3
   },
   "file_extension": ".py",
   "mimetype": "text/x-python",
   "name": "python",
   "nbconvert_exporter": "python",
   "pygments_lexer": "ipython3",
   "version": "3.6.8"
  }
 },
 "nbformat": 4,
 "nbformat_minor": 2
}
