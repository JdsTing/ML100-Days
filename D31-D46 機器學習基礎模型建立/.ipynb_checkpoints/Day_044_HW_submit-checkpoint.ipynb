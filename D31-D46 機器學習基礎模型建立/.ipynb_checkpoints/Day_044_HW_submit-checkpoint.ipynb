{
 "cells": [
  {
   "cell_type": "markdown",
   "metadata": {},
   "source": [
    "## 作業\n",
    "\n",
    "1. 試著調整 RandomForestClassifier(...) 中的參數，並觀察是否會改變結果？\n",
    "2. 改用其他資料集 (boston, wine)，並與回歸模型與決策樹的結果進行比較"
   ]
  },
  {
   "cell_type": "code",
   "execution_count": 22,
   "metadata": {},
   "outputs": [],
   "source": [
    "from sklearn import datasets, metrics\n",
    "from sklearn.ensemble import RandomForestClassifier\n",
    "from sklearn.model_selection import train_test_split"
   ]
  },
  {
   "cell_type": "code",
   "execution_count": 23,
   "metadata": {},
   "outputs": [
    {
     "name": "stdout",
     "output_type": "stream",
     "text": [
      "Acuuracy:  0.9473684210526315\n"
     ]
    }
   ],
   "source": [
    "# 讀取鳶尾花資料集\n",
    "iris = datasets.load_iris()\n",
    "\n",
    "# 切分訓練集/測試集\n",
    "x_train, x_test, y_train, y_test = train_test_split(iris.data, iris.target, test_size=0.25, random_state=4)\n",
    "\n",
    "# 建立模型\n",
    "clf = RandomForestClassifier( )\n",
    "\n",
    "# 訓練模型\n",
    "clf.fit(x_train, y_train)\n",
    "\n",
    "# 預測測試集\n",
    "y_pred = clf.predict(x_test)\n",
    "\n",
    "#原始範例\n",
    "acc = metrics.accuracy_score(y_test, y_pred)\n",
    "print(\"Acuuracy: \", acc)"
   ]
  },
  {
   "cell_type": "code",
   "execution_count": 24,
   "metadata": {},
   "outputs": [],
   "source": [
    "def get_best_model_and_accuracy(model, params, X, y):\n",
    "    from sklearn.model_selection import GridSearchCV\n",
    "    grid = GridSearchCV(model, params, cv=5, error_score=0, n_jobs=-1)\n",
    "    grid.fit(X, y)\n",
    "    print(f\"Best accuracy: {grid.best_score_}\")\n",
    "    print(f\"Best params: {grid.best_params_}\")\n",
    "    print(f\"Average time to fit (s): {grid.cv_results_['mean_fit_time'].mean():.3f}\")\n",
    "    print(f\"Average time to score (s): {grid.cv_results_['mean_score_time'].mean():.3f}\")"
   ]
  },
  {
   "cell_type": "code",
   "execution_count": 25,
   "metadata": {},
   "outputs": [
    {
     "name": "stdout",
     "output_type": "stream",
     "text": [
      "Best accuracy: 0.9666666666666667\n",
      "Best params: {'clf__criterion': 'gini', 'clf__min_samples_leaf': 2, 'clf__min_samples_split': 10, 'clf__n_estimators': 10}\n",
      "Average time to fit (s): 0.079\n",
      "Average time to score (s): 0.005\n"
     ]
    }
   ],
   "source": [
    "#多種參數嘗試\n",
    "from sklearn.pipeline import Pipeline\n",
    "\n",
    "clf = RandomForestClassifier()\n",
    "\n",
    "pipeline = Pipeline([\n",
    "    ('clf', clf)\n",
    "])\n",
    "params = {\n",
    "    'clf__n_estimators': [10, 20, 50, 100],\n",
    "    'clf__criterion': ['gini', 'entropy'],\n",
    "    'clf__min_samples_split': [2, 5, 10],\n",
    "    'clf__min_samples_leaf': [2, 5, 10],\n",
    "}\n",
    "get_best_model_and_accuracy(pipeline, params, iris.data, iris.target)"
   ]
  },
  {
   "cell_type": "code",
   "execution_count": 26,
   "metadata": {},
   "outputs": [
    {
     "name": "stdout",
     "output_type": "stream",
     "text": [
      "Accuracy = 0.974\n"
     ]
    }
   ],
   "source": [
    "rf = RandomForestClassifier(n_estimators=20, criterion='gini', min_samples_leaf=2, min_samples_split=2)\n",
    "rf.fit(x_train, y_train)\n",
    "y_pred = rf.predict(x_test)\n",
    "\n",
    "print(f\"Accuracy = {metrics.accuracy_score(y_test, y_pred):.3f}\")"
   ]
  },
  {
   "cell_type": "code",
   "execution_count": 19,
   "metadata": {},
   "outputs": [
    {
     "name": "stdout",
     "output_type": "stream",
     "text": [
      "max_depth=1, Accuracy = 0.947\n",
      "max_depth=2, Accuracy = 0.974\n",
      "max_depth=5, Accuracy = 0.974\n",
      "max_depth=10, Accuracy = 0.974\n"
     ]
    }
   ],
   "source": [
    "for depth in [1, 2, 5, 10]:\n",
    "    rf = RandomForestClassifier(n_estimators=20, criterion='gini', min_samples_leaf=2, min_samples_split=2,\n",
    "                               max_depth=depth)\n",
    "    rf.fit(x_train, y_train)\n",
    "    y_pred = rf.predict(x_test)\n",
    "\n",
    "    print(f\"max_depth={depth}, Accuracy = {metrics.accuracy_score(y_test, y_pred):.3f}\")"
   ]
  },
  {
   "cell_type": "code",
   "execution_count": 27,
   "metadata": {},
   "outputs": [
    {
     "name": "stdout",
     "output_type": "stream",
     "text": [
      "Accuracy = 0.974\n"
     ]
    }
   ],
   "source": [
    "\n",
    "rf = RandomForestClassifier(n_estimators=20, criterion='gini', min_samples_leaf=2, min_samples_split=2,\n",
    "                               max_depth=2)\n",
    "rf.fit(x_train, y_train)\n",
    "y_pred = rf.predict(x_test)\n",
    "\n",
    "print(f\"Accuracy = {metrics.accuracy_score(y_test, y_pred):.3f}\")"
   ]
  },
  {
   "cell_type": "code",
   "execution_count": 29,
   "metadata": {},
   "outputs": [
    {
     "name": "stdout",
     "output_type": "stream",
     "text": [
      "['sepal length (cm)', 'sepal width (cm)', 'petal length (cm)', 'petal width (cm)']\n",
      "Feature importance:  [0.28531049 0.0415864  0.27790652 0.39519659]\n"
     ]
    }
   ],
   "source": [
    "print(iris.feature_names)\n",
    "print(\"Feature importance: \", rf.feature_importances_)"
   ]
  },
  {
   "cell_type": "code",
   "execution_count": null,
   "metadata": {},
   "outputs": [],
   "source": []
  }
 ],
 "metadata": {
  "kernelspec": {
   "display_name": "Python 3",
   "language": "python",
   "name": "python3"
  },
  "language_info": {
   "codemirror_mode": {
    "name": "ipython",
    "version": 3
   },
   "file_extension": ".py",
   "mimetype": "text/x-python",
   "name": "python",
   "nbconvert_exporter": "python",
   "pygments_lexer": "ipython3",
   "version": "3.6.5"
  }
 },
 "nbformat": 4,
 "nbformat_minor": 2
}
