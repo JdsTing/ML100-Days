{
 "cells": [
  {
   "cell_type": "markdown",
   "metadata": {},
   "source": [
    "# PCA 範例\n",
    "* 以 PCA + 邏輯斯迴歸判斷手寫辨識資料集, 觀察不同 component 下正確率的變化"
   ]
  },
  {
   "cell_type": "code",
   "execution_count": 1,
   "metadata": {},
   "outputs": [],
   "source": [
    "# 載入套件\n",
    "import numpy as np\n",
    "import matplotlib.pyplot as plt\n",
    "import pandas as pd\n",
    "\n",
    "from sklearn import datasets\n",
    "from sklearn.decomposition import PCA\n",
    "from sklearn.linear_model import SGDClassifier\n",
    "from sklearn.pipeline import Pipeline\n",
    "from sklearn.model_selection import GridSearchCV\n",
    "import warnings\n",
    "warnings.filterwarnings(\"ignore\")"
   ]
  },
  {
   "cell_type": "code",
   "execution_count": 3,
   "metadata": {},
   "outputs": [
    {
     "name": "stdout",
     "output_type": "stream",
     "text": [
      "(1797, 64) (1797,)\n",
      "[0 1 2 3 4 5 6 7 8 9]\n",
      "[178 182 177 183 181 182 181 179 174 180]\n"
     ]
    }
   ],
   "source": [
    "# 定義 PCA 與隨後的羅吉斯迴歸函數\n",
    "# penalty 改為 L1, max_iter 改為 100\n",
    "logistic = SGDClassifier(loss='log', penalty='l1', max_iter=100, tol=1e-5, random_state=0)\n",
    "pca = PCA()\n",
    "pipe = Pipeline(steps=[('pca', pca), ('logistic', logistic)])\n",
    "\n",
    "# 載入手寫數字辨識集\n",
    "digits = datasets.load_digits()\n",
    "X = digits.data\n",
    "y = digits.target\n",
    "\n",
    "print(X.shape, y.shape)\n",
    "print(np.unique(y))\n",
    "print(np.bincount(y))"
   ]
  },
  {
   "cell_type": "markdown",
   "metadata": {},
   "source": [
    "# 作業\n",
    "* 將參數 penalty 改為 L1, max_iter 改為 100, 觀察 PCA 與羅吉斯迴歸做手寫辨識的效果"
   ]
  },
  {
   "cell_type": "code",
   "execution_count": 4,
   "metadata": {},
   "outputs": [],
   "source": [
    "def get_best_model_and_accuracy(model, params, X, y):\n",
    "    grid = GridSearchCV(model, params, error_score=0, cv=5, n_jobs=-1)\n",
    "    grid.fit(X, y)\n",
    "    print(f\"Best accuracy: {grid.best_score_:.3f}\")\n",
    "    print(f\"Best parameters: {grid.best_params_}\")\n",
    "    print(f\"Avg. time to fit: {grid.cv_results_['mean_fit_time'].mean():.3f}\")\n",
    "    print(f\"Avg. time to predict: {grid.cv_results_['mean_score_time'].mean():.3f}\")\n",
    "    "
   ]
  },
  {
   "cell_type": "code",
   "execution_count": 5,
   "metadata": {},
   "outputs": [
    {
     "name": "stdout",
     "output_type": "stream",
     "text": [
      "Best accuracy: 0.909\n",
      "Best parameters: {'logistic__alpha': 0.001, 'pca__n_components': 32}\n",
      "Avg. time to fit: 0.475\n",
      "Avg. time to predict: 0.025\n"
     ]
    }
   ],
   "source": [
    "# 執行 GridSearchCV 跑出最佳參數\n",
    "# 定義 PCA 與隨後的羅吉斯迴歸函數\n",
    "# penalty 改為 L1, max_iter 改為 100\n",
    "model = Pipeline(steps=[\n",
    "    ('pca', PCA()),\n",
    "    ('logistic', SGDClassifier(loss='log', penalty='l1', max_iter=100, tol=1e-5, random_state=0))\n",
    "])\n",
    "\n",
    "params = {\n",
    "    'pca__n_components': [1, 2, 4, 8, 16, 32, 64],\n",
    "    'logistic__alpha': [1e-3, 1e-2, 1e-1, 1],\n",
    "}\n",
    "\n",
    "get_best_model_and_accuracy(model, params, X, y)"
   ]
  },
  {
   "cell_type": "code",
   "execution_count": 6,
   "metadata": {},
   "outputs": [
    {
     "data": {
      "text/plain": [
       "Text(0,0.5,'explained_variance_ratio')"
      ]
     },
     "execution_count": 6,
     "metadata": {},
     "output_type": "execute_result"
    },
    {
     "data": {
      "image/png": "[encoded data removed]",
      "text/plain": [
       "<Figure size 432x288 with 1 Axes>"
      ]
     },
     "metadata": {},
     "output_type": "display_data"
    }
   ],
   "source": [
    "# 繪製不同 components 的 PCA explained variance ratio\n",
    "# 繪製不同 components 的 PCA explained variance ratio\n",
    "pca = PCA(n_components=64)\n",
    "pca.fit(X)\n",
    "plt.plot(np.arange(64)+1, pca.explained_variance_ratio_)\n",
    "plt.xlabel('n_components')\n",
    "plt.ylabel('explained_variance_ratio')"
   ]
  },
  {
   "cell_type": "code",
   "execution_count": 7,
   "metadata": {},
   "outputs": [
    {
     "data": {
      "text/html": [
       "<div>\n",
       "<style scoped>\n",
       "    .dataframe tbody tr th:only-of-type {\n",
       "        vertical-align: middle;\n",
       "    }\n",
       "\n",
       "    .dataframe tbody tr th {\n",
       "        vertical-align: top;\n",
       "    }\n",
       "\n",
       "    .dataframe thead th {\n",
       "        text-align: right;\n",
       "    }\n",
       "</style>\n",
       "<table border=\"1\" class=\"dataframe\">\n",
       "  <thead>\n",
       "    <tr style=\"text-align: right;\">\n",
       "      <th></th>\n",
       "      <th>n_components</th>\n",
       "      <th>accuracy</th>\n",
       "      <th>precision</th>\n",
       "      <th>recall</th>\n",
       "      <th>f1</th>\n",
       "    </tr>\n",
       "  </thead>\n",
       "  <tbody>\n",
       "    <tr>\n",
       "      <th>0</th>\n",
       "      <td>1</td>\n",
       "      <td>0.251111</td>\n",
       "      <td>0.262090</td>\n",
       "      <td>0.249710</td>\n",
       "      <td>0.188692</td>\n",
       "    </tr>\n",
       "    <tr>\n",
       "      <th>1</th>\n",
       "      <td>2</td>\n",
       "      <td>0.431111</td>\n",
       "      <td>0.599059</td>\n",
       "      <td>0.430730</td>\n",
       "      <td>0.451817</td>\n",
       "    </tr>\n",
       "    <tr>\n",
       "      <th>2</th>\n",
       "      <td>4</td>\n",
       "      <td>0.773333</td>\n",
       "      <td>0.769400</td>\n",
       "      <td>0.772476</td>\n",
       "      <td>0.766227</td>\n",
       "    </tr>\n",
       "    <tr>\n",
       "      <th>3</th>\n",
       "      <td>8</td>\n",
       "      <td>0.866667</td>\n",
       "      <td>0.865181</td>\n",
       "      <td>0.866232</td>\n",
       "      <td>0.864514</td>\n",
       "    </tr>\n",
       "    <tr>\n",
       "      <th>4</th>\n",
       "      <td>16</td>\n",
       "      <td>0.951111</td>\n",
       "      <td>0.953108</td>\n",
       "      <td>0.950627</td>\n",
       "      <td>0.951198</td>\n",
       "    </tr>\n",
       "    <tr>\n",
       "      <th>5</th>\n",
       "      <td>32</td>\n",
       "      <td>0.946667</td>\n",
       "      <td>0.947270</td>\n",
       "      <td>0.946033</td>\n",
       "      <td>0.946224</td>\n",
       "    </tr>\n",
       "    <tr>\n",
       "      <th>6</th>\n",
       "      <td>64</td>\n",
       "      <td>0.940000</td>\n",
       "      <td>0.939755</td>\n",
       "      <td>0.939514</td>\n",
       "      <td>0.939252</td>\n",
       "    </tr>\n",
       "  </tbody>\n",
       "</table>\n",
       "</div>"
      ],
      "text/plain": [
       "   n_components  accuracy  precision    recall        f1\n",
       "0             1  0.251111   0.262090  0.249710  0.188692\n",
       "1             2  0.431111   0.599059  0.430730  0.451817\n",
       "2             4  0.773333   0.769400  0.772476  0.766227\n",
       "3             8  0.866667   0.865181  0.866232  0.864514\n",
       "4            16  0.951111   0.953108  0.950627  0.951198\n",
       "5            32  0.946667   0.947270  0.946033  0.946224\n",
       "6            64  0.940000   0.939755  0.939514  0.939252"
      ]
     },
     "execution_count": 7,
     "metadata": {},
     "output_type": "execute_result"
    }
   ],
   "source": [
    "# 繪製不同採樣點的 accuracy\n",
    "from sklearn.model_selection import train_test_split\n",
    "from sklearn.metrics import accuracy_score, precision_score, recall_score, f1_score\n",
    "\n",
    "X_train, X_test, y_train, y_test = train_test_split(X, y, stratify=y, test_size=0.25, random_state=0)\n",
    "\n",
    "df = pd.DataFrame({}, columns=['n_components', 'accuracy', 'precision', 'recall', 'f1'])\n",
    "df['n_components'] = [1, 2, 4, 8, 16, 32, 64]\n",
    "accuracy_scores = []\n",
    "precision_scores = []\n",
    "recall_scores = []\n",
    "f1_scores = []\n",
    "\n",
    "for n_components in [1, 2, 4, 8, 16, 32, 64]:\n",
    "    pca = PCA(n_components=n_components)\n",
    "    pca.fit(X_train)\n",
    "    X_train_pca = pca.transform(X_train)\n",
    "    X_test_pca = pca.transform(X_test)\n",
    "    \n",
    "    clf = SGDClassifier(alpha=0.01, loss='log', penalty='l1', max_iter=100, tol=1e-5, random_state=0)\n",
    "    clf.fit(X_train_pca, y_train)\n",
    "    y_pred = clf.predict(X_test_pca)\n",
    "    accuracy_scores.append(accuracy_score(y_test, y_pred))\n",
    "    precision_scores.append(precision_score(y_test, y_pred, average='macro'))\n",
    "    recall_scores.append(recall_score(y_test, y_pred, average='macro'))\n",
    "    f1_scores.append(f1_score(y_test, y_pred, average='macro'))\n",
    "    \n",
    "df['accuracy'] = accuracy_scores\n",
    "df['precision'] = precision_scores\n",
    "df['recall'] = recall_scores\n",
    "df['f1'] = f1_scores\n",
    "df"
   ]
  },
  {
   "cell_type": "code",
   "execution_count": 8,
   "metadata": {},
   "outputs": [
    {
     "data": {
      "text/plain": [
       "Text(0,0.5,'accuracy score')"
      ]
     },
     "execution_count": 8,
     "metadata": {},
     "output_type": "execute_result"
    },
    {
     "data": {
      "image/png": "[encoded data removed]",
      "text/plain": [
       "<Figure size 432x288 with 1 Axes>"
      ]
     },
     "metadata": {},
     "output_type": "display_data"
    }
   ],
   "source": [
    "plt.plot(df['n_components'], df['accuracy'])\n",
    "plt.xlabel('n_components')\n",
    "plt.ylabel('accuracy score')"
   ]
  },
  {
   "cell_type": "markdown",
   "metadata": {},
   "source": [
    "explained variance ratio : 解釋變異性隨著 components 穩定下降\n",
    "分類預測準確率 : 似乎也隨著 components 提升, 但是在 20 以後提升不多"
   ]
  }
 ],
 "metadata": {
  "kernelspec": {
   "display_name": "Python 3",
   "language": "python",
   "name": "python3"
  },
  "language_info": {
   "codemirror_mode": {
    "name": "ipython",
    "version": 3
   },
   "file_extension": ".py",
   "mimetype": "text/x-python",
   "name": "python",
   "nbconvert_exporter": "python",
   "pygments_lexer": "ipython3",
   "version": "3.6.5"
  }
 },
 "nbformat": 4,
 "nbformat_minor": 1
}
